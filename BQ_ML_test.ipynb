{
 "cells": [
  {
   "cell_type": "markdown",
   "metadata": {},
   "source": [
    "## Test running BQ ML from jupyter notebook"
   ]
  },
  {
   "cell_type": "markdown",
   "metadata": {},
   "source": [
    "# NOTE: This code needs to be updated now that it has been pulled out of the model_train_save_test.ipynb"
   ]
  },
  {
   "cell_type": "code",
   "execution_count": 4,
   "metadata": {},
   "outputs": [],
   "source": [
    "import os\n",
    "import pandas as pd\n",
    "# Allow you to easily have Python variables in SQL query.\n",
    "from IPython.core.magic import register_cell_magic\n",
    "from IPython import get_ipython"
   ]
  },
  {
   "cell_type": "markdown",
   "metadata": {},
   "source": [
    "### Create Project and Bucket name vars"
   ]
  },
  {
   "cell_type": "code",
   "execution_count": 5,
   "metadata": {},
   "outputs": [],
   "source": [
    "bucket_path = os.path.expanduser('~/bucket.txt')\n",
    "with open(bucket_path) as f:\n",
    "    BUCKET_NAME = f.read().strip()\n",
    "\n",
    "    project_path = os.path.expanduser('~/project.txt')\n",
    "with open(project_path) as f:\n",
    "    PROJECT_NAME = f.read().strip()"
   ]
  },
  {
   "cell_type": "code",
   "execution_count": 6,
   "metadata": {},
   "outputs": [],
   "source": [
    "@register_cell_magic('with_globals')\n",
    "def with_globals(line, cell):\n",
    "    contents = cell.format(**globals())\n",
    "    if 'print' in line:\n",
    "        print(contents)\n",
    "    get_ipython().run_cell(contents)"
   ]
  },
  {
   "cell_type": "code",
   "execution_count": 8,
   "metadata": {},
   "outputs": [
    {
     "name": "stdout",
     "output_type": "stream",
     "text": [
      "Executing query with job ID: ca42d882-bed7-4f58-bbb8-22e14ca3f56c\n",
      "Query executing: 0.22s"
     ]
    },
    {
     "name": "stderr",
     "output_type": "stream",
     "text": [
      "\n",
      "ERROR:\n",
      " 404 Not found: Dataset ipt-dev-888b4e:aiplatform_test was not found in location US\n",
      "\n",
      "(job ID: ca42d882-bed7-4f58-bbb8-22e14ca3f56c)\n",
      "\n",
      "                                                              -----Query Job SQL Follows-----                                                               \n",
      "\n",
      "    |    .    |    .    |    .    |    .    |    .    |    .    |    .    |    .    |    .    |    .    |    .    |    .    |    .    |    .    |    .    |\n",
      "   1:# ToDo: Update this so it's not dependent on another model run that does this mapping. In other words, we should do any mapping directly in this code. \n",
      "   2:#Create Model - Dataset being used is the public dataset from above with the encoders \n",
      "   3:CREATE or REPLACE MODEL aiplatform_test.liquor_sales_model\n",
      "   4:OPTIONS\n",
      "   5:  (model_type='linear_reg',\n",
      "   6:    input_label_cols=['sale_dollars']) AS\n",
      "   7:    SELECT sale_dollars,\n",
      "   8:     city_enc,\n",
      "   9:     county_number_enc,\n",
      "  10:     category_enc,\n",
      "  11:     store_number_enc,\n",
      "  12:     item_number_enc,\n",
      "  13:     year,\n",
      "  14:     month,\n",
      "  15:     day \n",
      "  16:      FROM aiplatform_test.df_cat\n",
      "    |    .    |    .    |    .    |    .    |    .    |    .    |    .    |    .    |    .    |    .    |    .    |    .    |    .    |    .    |    .    |\n"
     ]
    }
   ],
   "source": [
    "%%with_globals\n",
    "%%bigquery --project $PROJECT_NAME\n",
    "\n",
    "# ToDo: Update this so it's not dependent on another model run that does \n",
    "# this mapping. In other words, we should do any mapping directly in this code. \n",
    "\n",
    "#Create Model - Dataset being used is the public dataset from above with the encoders \n",
    "CREATE or REPLACE MODEL aiplatform_test.liquor_sales_model\n",
    "OPTIONS\n",
    "  (model_type='linear_reg',\n",
    "    input_label_cols=['sale_dollars']) AS\n",
    "    SELECT sale_dollars,\n",
    "     city_enc,\n",
    "     county_number_enc,\n",
    "     category_enc,\n",
    "     store_number_enc,\n",
    "     item_number_enc,\n",
    "     year,\n",
    "     month,\n",
    "     day \n",
    "      FROM aiplatform_test.df_cat"
   ]
  },
  {
   "cell_type": "code",
   "execution_count": null,
   "metadata": {},
   "outputs": [],
   "source": [
    "%%with_globals\n",
    "%%bigquery --project $PROJECT_NAME\n",
    "\n",
    "#Evaluate Model \n",
    "SELECT\n",
    "    *\n",
    "FROM\n",
    "  ML.EVALUATE(MODEL aiplatform_test.liquor_sales_model,\n",
    "    (\n",
    "    SELECT\n",
    "     sale_dollars,\n",
    "     city_enc,\n",
    "     county_number_enc,\n",
    "     category_enc,\n",
    "     store_number_enc,\n",
    "     item_number_enc,\n",
    "     year,\n",
    "     month,\n",
    "     day \n",
    "      FROM aiplatform_test.df_cat))"
   ]
  },
  {
   "cell_type": "code",
   "execution_count": null,
   "metadata": {},
   "outputs": [],
   "source": [
    "%%with_globals\n",
    "%%bigquery --project $PROJECT_NAME\n",
    "\n",
    "#Prediction Outcomes\n",
    "SELECT\n",
    "    sale_dollars,\n",
    "     city, \n",
    "     county_number,\n",
    "     category, \n",
    "     store_number, \n",
    "     item_number, \n",
    "     year, \n",
    "     month, \n",
    "     day, \n",
    "     city_enc,\n",
    "     county_number_enc,\n",
    "     category_enc,\n",
    "     store_number_enc,\n",
    "     item_number_enc,\n",
    "     predicted_sale_dollars\n",
    "FROM\n",
    "  ML.PREDICT(MODEL aiplatform_test.liquor_sales_model,\n",
    "    (\n",
    "    SELECT\n",
    "     sale_dollars,\n",
    "     city, \n",
    "     county_number,\n",
    "     category,\n",
    "     store_number, \n",
    "     item_number, \n",
    "     year, \n",
    "     month, \n",
    "     day, \n",
    "     city_enc,\n",
    "     county_number_enc,\n",
    "     category_enc,\n",
    "     store_number_enc,\n",
    "     item_number_enc\n",
    "      FROM aiplatform_test.df_cat\n",
    "))"
   ]
  },
  {
   "cell_type": "code",
   "execution_count": null,
   "metadata": {},
   "outputs": [],
   "source": [
    "%%with_globals\n",
    "%%bigquery --project $PROJECT_NAME\n",
    "\n",
    "#Create a table with the results \n",
    "CREATE TABLE aiplatform_test.bqml_liquor_sales AS (\n",
    "SELECT\n",
    "    sale_dollars,\n",
    "     city, \n",
    "     county_number,\n",
    "     category, \n",
    "     store_number, \n",
    "     item_number, \n",
    "     year, \n",
    "     month, \n",
    "     day, \n",
    "     city_enc,\n",
    "     county_number_enc,\n",
    "     category_enc,\n",
    "     store_number_enc,\n",
    "     item_number_enc,\n",
    "     predicted_sale_dollars\n",
    "FROM\n",
    "  ML.PREDICT(MODEL aiplatform_test.liquor_sales_model,\n",
    "    (\n",
    "    SELECT\n",
    "     sale_dollars,\n",
    "     city, \n",
    "     county_number,\n",
    "     category,\n",
    "     store_number, \n",
    "     item_number, \n",
    "     year, \n",
    "     month, \n",
    "     day, \n",
    "     city_enc,\n",
    "     county_number_enc,\n",
    "     category_enc,\n",
    "     store_number_enc,\n",
    "     item_number_enc\n",
    "      FROM aiplatform_test.df_cat\n",
    ")))"
   ]
  }
 ],
 "metadata": {
  "kernelspec": {
   "display_name": "Python 3",
   "language": "python",
   "name": "python3"
  },
  "language_info": {
   "codemirror_mode": {
    "name": "ipython",
    "version": 3
   },
   "file_extension": ".py",
   "mimetype": "text/x-python",
   "name": "python",
   "nbconvert_exporter": "python",
   "pygments_lexer": "ipython3",
   "version": "3.7.6"
  }
 },
 "nbformat": 4,
 "nbformat_minor": 4
}
