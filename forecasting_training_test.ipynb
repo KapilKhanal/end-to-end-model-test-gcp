{
 "cells": [
  {
   "cell_type": "code",
   "execution_count": 1,
   "metadata": {},
   "outputs": [
    {
     "name": "stdout",
     "output_type": "stream",
     "text": [
      "Requirement already satisfied: h5py in /usr/local/lib/python3.5/dist-packages (2.10.0)\n",
      "Requirement already satisfied: six in /usr/local/lib/python3.5/dist-packages (from h5py) (1.13.0)\n",
      "Requirement already satisfied: numpy>=1.7 in /usr/local/lib/python3.5/site-packages (from h5py) (1.15.1)\n",
      "Requirement already satisfied: mkl in /usr/local/lib/python3.5/dist-packages (from numpy>=1.7->h5py) (2019.0)\n",
      "Requirement already satisfied: mkl-fft in /usr/local/lib/python3.5/dist-packages (from numpy>=1.7->h5py) (1.0.6)\n",
      "Requirement already satisfied: tbb4py in /usr/local/lib/python3.5/dist-packages (from numpy>=1.7->h5py) (2019.0)\n",
      "Requirement already satisfied: mkl-random in /usr/local/lib/python3.5/dist-packages (from numpy>=1.7->h5py) (1.0.1.1)\n",
      "Requirement already satisfied: icc-rt in /usr/local/lib/python3.5/dist-packages (from numpy>=1.7->h5py) (2020.0.133)\n",
      "Requirement already satisfied: intel-openmp in /usr/local/lib/python3.5/dist-packages (from mkl->numpy>=1.7->h5py) (2020.0.133)\n",
      "Requirement already satisfied: intel-numpy in /usr/local/lib/python3.5/dist-packages (from mkl-fft->numpy>=1.7->h5py) (1.15.1)\n",
      "Requirement already satisfied: tbb==2019.* in /usr/local/lib/python3.5/dist-packages (from tbb4py->numpy>=1.7->h5py) (2019.0)\n",
      "Note: you may need to restart the kernel to use updated packages.\n",
      "Collecting tables\n",
      "\u001b[?25l  Downloading https://files.pythonhosted.org/packages/2b/32/847ee3f521aae6a0be380d923a736162d698586f444df1ac24b98c65025c/tables-3.6.1.tar.gz (4.6MB)\n",
      "\u001b[K     |████████████████████████████████| 4.6MB 2.9MB/s eta 0:00:01\n",
      "\u001b[?25hRequirement already satisfied: numpy>=1.9.3 in /usr/local/lib/python3.5/site-packages (from tables) (1.15.1)\n",
      "Collecting numexpr>=2.6.2\n",
      "\u001b[?25l  Downloading https://files.pythonhosted.org/packages/07/c0/072307a640afabdf0bed117c14fe9e60a83c92d915a4ca20ddb6516c29b7/numexpr-2.7.1-cp35-cp35m-manylinux1_x86_64.whl (162kB)\n",
      "\u001b[K     |████████████████████████████████| 163kB 21.8MB/s eta 0:00:01\n",
      "\u001b[?25hRequirement already satisfied: mkl in /usr/local/lib/python3.5/dist-packages (from numpy>=1.9.3->tables) (2019.0)\n",
      "Requirement already satisfied: icc-rt in /usr/local/lib/python3.5/dist-packages (from numpy>=1.9.3->tables) (2020.0.133)\n",
      "Requirement already satisfied: mkl-random in /usr/local/lib/python3.5/dist-packages (from numpy>=1.9.3->tables) (1.0.1.1)\n",
      "Requirement already satisfied: mkl-fft in /usr/local/lib/python3.5/dist-packages (from numpy>=1.9.3->tables) (1.0.6)\n",
      "Requirement already satisfied: tbb4py in /usr/local/lib/python3.5/dist-packages (from numpy>=1.9.3->tables) (2019.0)\n",
      "Requirement already satisfied: intel-openmp in /usr/local/lib/python3.5/dist-packages (from mkl->numpy>=1.9.3->tables) (2020.0.133)\n",
      "Requirement already satisfied: intel-numpy in /usr/local/lib/python3.5/dist-packages (from mkl-random->numpy>=1.9.3->tables) (1.15.1)\n",
      "Requirement already satisfied: tbb==2019.* in /usr/local/lib/python3.5/dist-packages (from tbb4py->numpy>=1.9.3->tables) (2019.0)\n",
      "Building wheels for collected packages: tables\n",
      "  Building wheel for tables (setup.py) ... \u001b[?25ldone\n",
      "\u001b[?25h  Created wheel for tables: filename=tables-3.6.1-cp35-cp35m-linux_x86_64.whl size=8754007 sha256=63fe4f703da82d62a7c4d05c5540263e4b23db43dd1f11003572bb736e5e13f8\n",
      "  Stored in directory: /home/jupyter/.cache/pip/wheels/3a/a6/49/e6cb0ce92e7285472e373323b27499a10cffe247f380bf5b6e\n",
      "Successfully built tables\n",
      "Installing collected packages: numexpr, tables\n",
      "\u001b[31mERROR: Could not install packages due to an EnvironmentError: [Errno 13] Permission denied: '/usr/local/lib/python3.5/dist-packages/numexpr-2.7.1.dist-info'\n",
      "Consider using the `--user` option or check the permissions.\n",
      "\u001b[0m\n",
      "Note: you may need to restart the kernel to use updated packages.\n"
     ]
    },
    {
     "ename": "ImportError",
     "evalue": "No module named 'shared_libs'",
     "output_type": "error",
     "traceback": [
      "\u001b[0;31m---------------------------------------------------------------------------\u001b[0m",
      "\u001b[0;31mImportError\u001b[0m                               Traceback (most recent call last)",
      "\u001b[0;32m<ipython-input-1-cff72addf63c>\u001b[0m in \u001b[0;36m<module>\u001b[0;34m\u001b[0m\n\u001b[1;32m     11\u001b[0m \u001b[0;32mimport\u001b[0m \u001b[0mnumpy\u001b[0m \u001b[0;32mas\u001b[0m \u001b[0mnp\u001b[0m\u001b[0;34m\u001b[0m\u001b[0m\n\u001b[1;32m     12\u001b[0m \u001b[0;34m\u001b[0m\u001b[0m\n\u001b[0;32m---> 13\u001b[0;31m \u001b[0;32mfrom\u001b[0m \u001b[0mshared_libs\u001b[0m \u001b[0;32mimport\u001b[0m \u001b[0mdata_prep\u001b[0m \u001b[0;32mas\u001b[0m \u001b[0mdp\u001b[0m\u001b[0;34m\u001b[0m\u001b[0m\n\u001b[0m\u001b[1;32m     14\u001b[0m \u001b[0;32mfrom\u001b[0m \u001b[0mshared_libs\u001b[0m \u001b[0;32mimport\u001b[0m \u001b[0mmodel_train\u001b[0m \u001b[0;32mas\u001b[0m \u001b[0mmt\u001b[0m\u001b[0;34m\u001b[0m\u001b[0m\n\u001b[1;32m     15\u001b[0m \u001b[0;34m\u001b[0m\u001b[0m\n",
      "\u001b[0;31mImportError\u001b[0m: No module named 'shared_libs'"
     ]
    }
   ],
   "source": [
    "%pip install h5py\n",
    "%pip install tables\n",
    "\n",
    "# Setup/Needed Imports\n",
    "\n",
    "from google.cloud import bigquery\n",
    "from IPython.display import display, HTML\n",
    "from google.cloud import storage\n",
    "\n",
    "import pandas as pd\n",
    "import numpy as np\n",
    "\n",
    "from shared_libs import data_prep as dp\n",
    "from shared_libs import model_train as mt\n",
    "\n",
    "BUCKET_NAME = 'python-testing-re'"
   ]
  },
  {
   "cell_type": "code",
   "execution_count": null,
   "metadata": {},
   "outputs": [],
   "source": []
  }
 ],
 "metadata": {
  "kernelspec": {
   "display_name": "Python 3",
   "language": "python",
   "name": "python3"
  },
  "language_info": {
   "codemirror_mode": {
    "name": "ipython",
    "version": 3
   },
   "file_extension": ".py",
   "mimetype": "text/x-python",
   "name": "python",
   "nbconvert_exporter": "python",
   "pygments_lexer": "ipython3",
   "version": "3.5.3"
  }
 },
 "nbformat": 4,
 "nbformat_minor": 4
}
